{
  "nbformat": 4,
  "nbformat_minor": 0,
  "metadata": {
    "colab": {
      "name": "Untitled14.ipynb",
      "provenance": [],
      "collapsed_sections": []
    },
    "kernelspec": {
      "display_name": "Python 3",
      "name": "python3"
    },
    "language_info": {
      "name": "python"
    }
  },
  "cells": [
    {
      "cell_type": "code",
      "metadata": {
        "id": "jhzGaanFDIom"
      },
      "source": [
        "import numpy as np\n",
        "from scipy.optimize import linprog\n",
        "import matplotlib.pyplot as plt\n",
        "import warnings\n",
        "warnings.filterwarnings(\"ignore\")"
      ],
      "execution_count": 498,
      "outputs": []
    },
    {
      "cell_type": "markdown",
      "metadata": {
        "id": "G4eH1Zdbc3Vb"
      },
      "source": [
        "# Problem (b)"
      ]
    },
    {
      "cell_type": "code",
      "metadata": {
        "id": "dYduJm_9Wbf1",
        "colab": {
          "base_uri": "https://localhost:8080/",
          "height": 619
        },
        "outputId": "ef466ebb-268b-469d-f1e4-1aa35357e623"
      },
      "source": [
        "def cluster_LP(data,n):\n",
        "    dist = np.zeros((n,n))\n",
        "    for i in range(n):\n",
        "        for j in range(n):\n",
        "            dist[i,j] = np.linalg.norm(data[i]-data[j])**2\n",
        "    D = dist.reshape((n**2,))\n",
        "    A = np.zeros((2*n+1,n**2),dtype=float)\n",
        "    for i in range(n):\n",
        "        A[0:n,n*i:n*(i+1)] = np.eye(n)\n",
        "        A[i+n,n*i:n*(i+1)] = np.ones(n)\n",
        "        A[2*n,i*(n+1)] = 1\n",
        "    b = np.zeros(2*n+1,dtype=float)\n",
        "    b[0:2*n] = np.ones(2*n,dtype=float)\n",
        "    b[2*n] = 2.\n",
        "\n",
        "    ### The constraint matrix of X_ii>=X_ij\n",
        "    C = np.zeros(((n-1)*n,n*n))\n",
        "    for i in range(n):\n",
        "        C[(n-1)*i:(n-1)*(i+1),(n+1)*i] = np.ones(n-1)\n",
        "        ind = list(range(n*i,n*i+i))+list(range(n*i+i+1,n*(i+1)))\n",
        "        C[(n-1)*i:(n-1)*(i+1),ind] = np.eye(n-1)*(-1)\n",
        "    b_inq = np.zeros((n-1)*n)\n",
        "\n",
        "    bound = [(0.,float(\"inf\"))]*n**2\n",
        "\n",
        "    opt = linprog(c=D,A_ub=-C,b_ub=b_inq,A_eq=A,b_eq=b,bounds=bound,method='interior-point')\n",
        "    x = opt.x.reshape((n,n))\n",
        "    c=plt.matshow(x,cmap='jet',extent=[0,n-1,0,n-1])\n",
        "    plt.colorbar(c)\n",
        "    return opt\n",
        "\n",
        "data1 = np.array([[10,10],[9.8,9.7],[10.1,10.7],[9.8,10.6],[-10,-10],[-9.8,-9.7],[-10.1,-10.7],[-9.8,-10.6]])\n",
        "#data1 = np.array([[10,10],[10,8.9],[11.1,13],[12.1,10.8],[12.3,11.2],[9.2,9.3],[9.5,9.5],[9,9.6]])\n",
        "opt = cluster_LP(data1,8)\n",
        "print(\"=======================================\")\n",
        "print(\"solution:\",opt.x)\n",
        "print(\"=======================================\")\n",
        "print('\\033[4m'+\"objective\",opt.fun)\n",
        "print(\"=======================================\")"
      ],
      "execution_count": 506,
      "outputs": [
        {
          "output_type": "stream",
          "text": [
            "=======================================\n",
            "solution: [2.50000000e-01 2.50000000e-01 2.50000000e-01 2.50000000e-01\n",
            " 4.24161498e-16 4.35539537e-16 4.02751628e-16 4.14032232e-16\n",
            " 2.50000000e-01 2.50000000e-01 2.50000000e-01 2.50000000e-01\n",
            " 5.89902193e-16 6.01037074e-16 5.73472529e-16 5.82897225e-16\n",
            " 2.50000000e-01 2.50000000e-01 2.50000000e-01 2.50000000e-01\n",
            " 4.34070147e-16 4.34128652e-16 4.33461324e-16 4.33625768e-16\n",
            " 2.50000000e-01 2.50000000e-01 2.50000000e-01 2.50000000e-01\n",
            " 4.13101350e-16 4.18674104e-16 4.02027983e-16 4.07258475e-16\n",
            " 4.23972048e-16 4.35552020e-16 4.02670540e-16 4.13781297e-16\n",
            " 2.50000000e-01 2.50000000e-01 2.50000000e-01 2.50000000e-01\n",
            " 5.89612477e-16 6.01056022e-16 5.73344365e-16 5.82507296e-16\n",
            " 2.50000000e-01 2.50000000e-01 2.50000000e-01 2.50000000e-01\n",
            " 4.33900902e-16 4.34139510e-16 4.33386126e-16 4.33397763e-16\n",
            " 2.50000000e-01 2.50000000e-01 2.50000000e-01 2.50000000e-01\n",
            " 4.12929473e-16 4.18685283e-16 4.01953209e-16 4.07029700e-16\n",
            " 2.50000000e-01 2.50000000e-01 2.50000000e-01 2.50000000e-01]\n",
            "=======================================\n",
            "\u001b[4mobjective 3.030000000011971\n",
            "=======================================\n"
          ],
          "name": "stdout"
        },
        {
          "output_type": "display_data",
          "data": {
            "image/png": "[encoded data removed]",
            "text/plain": [
              "<Figure size 288x288 with 2 Axes>"
            ]
          },
          "metadata": {
            "tags": [],
            "needs_background": "light"
          }
        }
      ]
    },
    {
      "cell_type": "code",
      "metadata": {
        "colab": {
          "base_uri": "https://localhost:8080/",
          "height": 424
        },
        "id": "SWH4Psh6cVUO",
        "outputId": "9f16110a-10a9-48a1-b456-2291834486c4"
      },
      "source": [
        "data2 = np.array([[16],[14.5],[14],[13]])\n",
        "\n",
        "opt2 = cluster_LP(data2,4)\n",
        "print(\"=======================================\")\n",
        "print(\"solution:\",opt2.x.reshape(4,4))\n",
        "print(\"=======================================\")\n",
        "print('\\033[4m'+\"objective\",opt2.fun)\n",
        "print(\"=======================================\")\n",
        "kmeans = KMeans(n_clusters=2, random_state=0).fit(data2)\n",
        "print(kmeans.labels_)"
      ],
      "execution_count": 505,
      "outputs": [
        {
          "output_type": "stream",
          "text": [
            "=======================================\n",
            "solution: [[8.00503209e-01 1.99496791e-01 1.76634178e-12 2.07136074e-13]\n",
            " [1.99496791e-01 3.33333333e-01 3.33333333e-01 1.33836542e-01]\n",
            " [7.70718060e-13 3.33333333e-01 3.33333333e-01 3.33333333e-01]\n",
            " [1.02876646e-12 1.33836542e-01 3.33333333e-01 5.32830125e-01]]\n",
            "=======================================\n",
            "\u001b[4mobjective 2.333333333381223\n",
            "=======================================\n",
            "[0 1 1 1]\n"
          ],
          "name": "stdout"
        },
        {
          "output_type": "display_data",
          "data": {
            "image/png": "[encoded data removed]",
            "text/plain": [
              "<Figure size 288x288 with 2 Axes>"
            ]
          },
          "metadata": {
            "tags": [],
            "needs_background": "light"
          }
        }
      ]
    },
    {
      "cell_type": "markdown",
      "metadata": {
        "id": "qpcwgWkpTsXm"
      },
      "source": [
        "# Experiment using two balls\n"
      ]
    },
    {
      "cell_type": "code",
      "metadata": {
        "colab": {
          "base_uri": "https://localhost:8080/",
          "height": 352
        },
        "id": "jrtOUotzS6f0",
        "outputId": "5b1f154e-94c6-4e62-d549-570784569dd2"
      },
      "source": [
        "import random\n",
        "def random_ball(num_points, dimension, radius=1):\n",
        "\n",
        "\n",
        "    random_directions = np.random.normal(size=(dimension,num_points))\n",
        "    random_directions /= np.linalg.norm(random_directions, axis=0)\n",
        "\n",
        "    random_radii = np.random.random(num_points) ** (1/dimension)\n",
        "\n",
        "    return radius * (random_directions * random_radii).T\n",
        "\n",
        "ball_1 = random_ball(10,2,1)+np.array([3,3])\n",
        "ball_2 = random_ball(10,2,1)+np.array([4.7,4.8])\n",
        "data = np.concatenate([ball_1,ball_2])\n",
        "opt2 = cluster_LP(data,20)\n",
        "print(\"=======================================\")\n",
        "#print(\"solution:\",opt2.x.reshape(20,20))\n",
        "print(\"=======================================\")\n",
        "print('\\033[4m'+\"objective\",opt2.fun)\n",
        "print(\"=======================================\")\n",
        "from sklearn.cluster import KMeans\n",
        "kmeans = KMeans(n_clusters=2, random_state=0).fit(data)\n",
        "print(\"Kmeans\",kmeans.labels_)"
      ],
      "execution_count": 504,
      "outputs": [
        {
          "output_type": "stream",
          "text": [
            "=======================================\n",
            "=======================================\n",
            "\u001b[4mobjective 15.927835432493351\n",
            "=======================================\n",
            "Kmeans [1 1 1 1 1 1 1 1 1 1 0 0 0 0 0 0 0 0 0 0]\n"
          ],
          "name": "stdout"
        },
        {
          "output_type": "display_data",
          "data": {
            "image/png": "[encoded data removed]",
            "text/plain": [
              "<Figure size 288x288 with 2 Axes>"
            ]
          },
          "metadata": {
            "tags": [],
            "needs_background": "light"
          }
        }
      ]
    },
    {
      "cell_type": "markdown",
      "metadata": {
        "id": "3Xtf0CwMez4E"
      },
      "source": [
        "# Dual Probelm"
      ]
    },
    {
      "cell_type": "code",
      "metadata": {
        "colab": {
          "base_uri": "https://localhost:8080/",
          "height": 299
        },
        "id": "kV9IcAJ0zFEF",
        "outputId": "a4b24279-6b58-4b39-fb1b-85dcc15d3bdc"
      },
      "source": [
        "n=8\n",
        "b = np.zeros(2*n+1,dtype=float)\n",
        "b[0:2*n] = np.ones(2*n,dtype=float)\n",
        "b[2*n] = 2.\n",
        "b_ = np.append(np.append(b,-b),np.zeros(n*(n-1)))\n",
        "\n",
        "\n",
        "data = np.array([[10,10],[9.8,9.7],[10.1,10.7],[9.8,10.6],[-10,-10],[-9.8,-9.7],[-10.1,-10.7],[-9.8,-10.6]])\n",
        "dist = np.zeros((n,n))\n",
        "for i in range(n):\n",
        "    for j in range(n):\n",
        "        dist[i,j] = np.linalg.norm(data[i]-data[j])**2\n",
        "D = dist.reshape((n**2,))\n",
        "\n",
        "A = np.zeros((2*n+1,n**2),dtype=float)\n",
        "for i in range(n):\n",
        "    A[0:n,n*i:n*(i+1)] = np.eye(n)\n",
        "    A[i+n,n*i:n*(i+1)] = np.ones(n)\n",
        "    A[2*n,i*(n+1)] = 1\n",
        "\n",
        "C = np.zeros(((n-1)*n,n*n))\n",
        "for i in range(n):\n",
        "    C[(n-1)*i:(n-1)*(i+1),(n+1)*i] = np.ones(n-1)\n",
        "    ind = list(range(n*i,n*i+i))+list(range(n*i+i+1,n*(i+1)))\n",
        "    C[(n-1)*i:(n-1)*(i+1),ind] = np.eye(n-1)*(-1)\n",
        "\n",
        "A_ = np.concatenate([A.T,-A.T],axis=1)\n",
        "A_ = np.concatenate([A_,C.T],axis=1)\n",
        "\n",
        "bound = [(0.,float(\"inf\"))]*(4*n+2+n*n-n)\n",
        "\n",
        "opt = linprog(c=-b_,A_ub=A_,b_ub=D,bounds=bound,method='interior-point')\n",
        "print(\"dual obj\",opt.fun)\n",
        "\n",
        "print(\"primal\",cluster_LP(data,8).fun)"
      ],
      "execution_count": 509,
      "outputs": [
        {
          "output_type": "stream",
          "text": [
            "dual obj -3.0299996573712633\n",
            "primal 3.030000000011971\n"
          ],
          "name": "stdout"
        },
        {
          "output_type": "display_data",
          "data": {
            "image/png": "[encoded data removed]",
            "text/plain": [
              "<Figure size 288x288 with 2 Axes>"
            ]
          },
          "metadata": {
            "tags": [],
            "needs_background": "light"
          }
        }
      ]
    },
    {
      "cell_type": "markdown",
      "metadata": {
        "id": "C365hl6vfKrR"
      },
      "source": [
        "# Augmented Lagrangian Method"
      ]
    },
    {
      "cell_type": "code",
      "metadata": {
        "id": "AS9gKA-GIISW"
      },
      "source": [
        "!pip install numdifftools"
      ],
      "execution_count": null,
      "outputs": []
    },
    {
      "cell_type": "code",
      "metadata": {
        "id": "bakHT5dnIkBH",
        "colab": {
          "base_uri": "https://localhost:8080/"
        },
        "outputId": "d0e6c57b-2531-41f2-ceb6-fa1642276f1d"
      },
      "source": [
        "import numdifftools as nd\n",
        "from scipy.optimize import NonlinearConstraint\n",
        "from scipy.optimize import Bounds\n",
        "from scipy.optimize import minimize\n",
        "from numpy.linalg import norm\n",
        "\n",
        "n=4\n",
        "data2 = np.array([[10,9.7],[9.8,9.8],[3.3,3.2],[2.4,3.3]])\n",
        "dist = np.zeros((n,n))\n",
        "for i in range(n):\n",
        "    for j in range(n):\n",
        "        dist[i,j] = np.linalg.norm(data[i]-data[j])**2\n",
        "D = dist.reshape((n**2,))\n",
        "b = np.zeros(2*n+1,dtype=float)\n",
        "b[0:2*n] = np.ones(2*n,dtype=float)\n",
        "b[2*n] = 2.\n",
        "A = np.zeros((2*n+1,n**2),dtype=float)\n",
        "for i in range(n):\n",
        "    A[0:n,n*i:n*(i+1)] = np.eye(n)\n",
        "    A[i+n,n*i:n*(i+1)] = np.ones(n)\n",
        "    A[2*n,i*(n+1)] = 1\n",
        "C = np.zeros(((n-1)*n,n*n))\n",
        "for i in range(n):\n",
        "    C[(n-1)*i:(n-1)*(i+1),(n+1)*i] = np.ones(n-1)\n",
        "    ind = list(range(n*i,n*i+i))+list(range(n*i+i+1,n*(i+1)))\n",
        "    C[(n-1)*i:(n-1)*(i+1),ind] = np.eye(n-1)*(-1)\n",
        "\n",
        "A = np.concatenate([A,np.zeros((2*n+1,n*(n-1)))],axis=1)\n",
        "C = np.concatenate([C,-np.eye(n*(n-1))],axis=1)\n",
        "D_ = np.append(D,np.zeros(n*(n-1)))\n",
        "A_eq = np.concatenate([A,C],axis=0)\n",
        "b_eq = np.append(b,np.zeros(n*(n-1)))\n",
        "\n",
        "def Lag(x,lamb,mu):\n",
        "    c_i = A_eq@x - b_eq\n",
        "    return D_@x - lamb@(c_i) + 0.5*mu*np.linalg.norm(c_i)**2\n",
        "\n",
        "def c(x):\n",
        "    return A_eq@x - b_eq\n",
        "\n",
        "def grad_Lag(x,lamb,mu):\n",
        "    gfun = nd.Gradient(Lag)\n",
        "    return gfun(x,lamb,mu)\n",
        "\n",
        "def hessian_lag(x,lamb,mu):\n",
        "        hfun = nd.Hessian(Lag)\n",
        "        return hfun(x,lamb,mu)\n",
        "\n",
        "bounds = Bounds([0]*28,[1]*28)\n",
        "\n",
        "\n",
        "def aug_Lag(tol_k,mu_k,lamb_k,x_k,max_iter):\n",
        "    for i in range(max_iter):\n",
        "        res = minimize(Lag,x_k,method='trust-constr',args=(lamb_k,mu_k),jac=grad_Lag,hess=hessian_lag,options={'gtol':1e-8,'maxiter':100}, bounds=bounds)\n",
        "        x_k = res.x\n",
        "        lamb_k = lamb_k - mu_k * c(x_k)\n",
        "        mu_k = mu_k * 10\n",
        "        if norm(c(x_k))<=1e-9:\n",
        "            return x_k[0:16].reshape((4,4))\n",
        "        print(\"iteration:\",i+1,\"x_k: \",x_k[0:16].reshape(4,4))\n",
        "        print(\"-----------\")\n",
        "    return x_k\n",
        "x = aug_Lag(1e-8,20,np.ones(21),np.ones(28),100)\n",
        "x[0:16].reshape(4,4)"
      ],
      "execution_count": 510,
      "outputs": [
        {
          "output_type": "stream",
          "text": [
            "iteration: 1 x_k:  [[5.09065882e-01 4.87527063e-01 1.59852502e-02 2.59846207e-02]\n",
            " [4.99619242e-01 5.38942484e-01 6.16471464e-07 4.66409581e-07]\n",
            " [2.74928362e-06 4.33966278e-07 5.33959226e-01 5.01779395e-01]\n",
            " [3.55706562e-02 5.10256378e-06 4.86492876e-01 5.13673175e-01]]\n",
            "-----------\n",
            "iteration: 2 x_k:  [[4.99907282e-01 4.99896094e-01 1.13587514e-04 1.14490286e-04]\n",
            " [4.99973841e-01 5.00052328e-01 2.17879347e-06 3.10564597e-06]\n",
            " [1.20321787e-05 3.95465686e-06 5.00019039e-01 4.99974280e-01]\n",
            " [1.48036803e-04 2.50427107e-05 4.99896395e-01 4.99939831e-01]]\n",
            "-----------\n",
            "iteration: 3 x_k:  [[4.99988655e-01 4.99985701e-01 1.32601743e-05 1.44240638e-05]\n",
            " [4.99995622e-01 5.00005356e-01 4.21060277e-07 6.40676644e-07]\n",
            " [3.16607747e-06 8.11746739e-07 5.00003417e-01 4.99996456e-01]\n",
            " [1.97477049e-05 8.64206015e-06 4.99984670e-01 4.99990791e-01]]\n",
            "-----------\n",
            "iteration: 4 x_k:  [[4.99998942e-01 4.99998410e-01 1.54348624e-06 1.57447660e-06]\n",
            " [4.99999703e-01 5.00000581e-01 7.82455766e-08 1.08679502e-07]\n",
            " [3.94332566e-07 1.37441256e-07 5.00000083e-01 4.99999424e-01]\n",
            " [1.05728260e-06 8.50558294e-07 4.99998754e-01 4.99999376e-01]]\n",
            "-----------\n",
            "iteration: 5 x_k:  [[4.99999777e-01 4.99999676e-01 3.39055477e-07 2.96357482e-07]\n",
            " [4.99999929e-01 5.00000124e-01 1.16845554e-08 2.33709557e-08]\n",
            " [9.35396235e-08 4.03712627e-08 5.00000003e-01 4.99999883e-01]\n",
            " [2.30100089e-07 1.68900906e-07 4.99999741e-01 4.99999880e-01]]\n",
            "-----------\n",
            "iteration: 6 x_k:  [[4.99999780e-01 4.99999575e-01 3.11354744e-07 3.47282544e-07]\n",
            " [4.99999615e-01 5.00000239e-01 6.95543966e-08 9.04286499e-08]\n",
            " [2.21276642e-07 7.91453063e-08 5.00000023e-01 4.99999726e-01]\n",
            " [3.92073943e-07 1.99388594e-07 4.99999627e-01 4.99999832e-01]]\n",
            "-----------\n",
            "iteration: 7 x_k:  [[4.99971589e-01 4.99952058e-01 3.49017866e-05 4.14479435e-05]\n",
            " [4.99940985e-01 5.00035208e-01 1.00557467e-05 1.37465415e-05]\n",
            " [3.45957024e-05 1.21180351e-05 5.00000852e-01 4.99952429e-01]\n",
            " [5.28346734e-05 6.02060514e-07 4.99954192e-01 4.99992367e-01]]\n",
            "-----------\n",
            "iteration: 8 x_k:  [[4.99988803e-01 4.99973085e-01 1.66668364e-05 2.14284930e-05]\n",
            " [4.99974632e-01 5.00014569e-01 4.50222404e-06 6.27974035e-06]\n",
            " [1.39408155e-05 3.97291242e-06 5.00003176e-01 4.99978935e-01]\n",
            " [2.26216900e-05 8.42612215e-06 4.99975543e-01 4.99993435e-01]]\n",
            "-----------\n",
            "iteration: 9 x_k:  [[4.99981051e-01 4.99958171e-01 2.68034706e-05 3.39758257e-05]\n",
            " [4.99956359e-01 5.00025632e-01 7.84008025e-06 1.01695288e-05]\n",
            " [2.35764928e-05 8.80323101e-06 5.00002545e-01 4.99965072e-01]\n",
            " [3.90135652e-05 7.38613279e-06 4.99962822e-01 4.99990775e-01]]\n",
            "-----------\n"
          ],
          "name": "stdout"
        },
        {
          "output_type": "execute_result",
          "data": {
            "text/plain": [
              "array([[4.99986084e-01, 4.99919365e-01, 4.51675433e-05, 4.93842854e-05],\n",
              "       [4.99923362e-01, 5.00050447e-01, 9.58185611e-06, 1.66097908e-05],\n",
              "       [2.78979629e-05, 7.68726017e-06, 4.99996939e-01, 4.99967476e-01],\n",
              "       [6.26564885e-05, 2.25018936e-05, 4.99948311e-01, 4.99966530e-01]])"
            ]
          },
          "metadata": {
            "tags": []
          },
          "execution_count": 510
        }
      ]
    },
    {
      "cell_type": "code",
      "metadata": {
        "id": "UzOruXWLJzMk"
      },
      "source": [
        "x = x[0:16].reshape(4,4)"
      ],
      "execution_count": null,
      "outputs": []
    },
    {
      "cell_type": "code",
      "metadata": {
        "id": "Yb7jqRpWM-dF",
        "colab": {
          "base_uri": "https://localhost:8080/"
        },
        "outputId": "c14c2c2f-6cc5-4100-bdd2-3d96df84e1a2"
      },
      "source": [
        "D@x.reshape(16)"
      ],
      "execution_count": null,
      "outputs": [
        {
          "output_type": "execute_result",
          "data": {
            "text/plain": [
              "1.1256713590363798"
            ]
          },
          "metadata": {
            "tags": []
          },
          "execution_count": 413
        }
      ]
    },
    {
      "cell_type": "code",
      "metadata": {
        "id": "cYgBavTQNPl-"
      },
      "source": [
        ""
      ],
      "execution_count": null,
      "outputs": []
    }
  ]
}